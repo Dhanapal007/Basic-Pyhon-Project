{
 "cells": [
  {
   "cell_type": "code",
   "execution_count": null,
   "id": "ca587988",
   "metadata": {},
   "outputs": [],
   "source": [
    "TRIANGLE SHAPE ALPHABETS"
   ]
  },
  {
   "cell_type": "code",
   "execution_count": 8,
   "id": "421320a7",
   "metadata": {},
   "outputs": [
    {
     "name": "stdout",
     "output_type": "stream",
     "text": [
      "Enter The Numbers you Want: 5\n",
      "A \n",
      "B C \n",
      "D E F \n",
      "G H I J \n",
      "K L M N O \n"
     ]
    }
   ],
   "source": [
    "n=int(input('Enter The Numbers you Want: '))\n",
    "k=ord(\"A\") #ord is coverts the value in unique code\n",
    "for i in range(n): #rows\n",
    "    for j in range(i+1): #columns\n",
    "        print(chr(k),end=\" \")\n",
    "        k=k+1\n",
    "    print()"
   ]
  },
  {
   "cell_type": "code",
   "execution_count": null,
   "id": "670c184e",
   "metadata": {},
   "outputs": [],
   "source": [
    "TRIANGLE SHAPE STRINGS"
   ]
  },
  {
   "cell_type": "code",
   "execution_count": 9,
   "id": "5c3743b4",
   "metadata": {},
   "outputs": [
    {
     "name": "stdout",
     "output_type": "stream",
     "text": [
      "enter the string:dhanapal\n",
      "d \n",
      "d h \n",
      "d h a \n",
      "d h a n \n",
      "d h a n a \n",
      "d h a n a p \n",
      "d h a n a p a \n",
      "d h a n a p a l \n"
     ]
    }
   ],
   "source": [
    "n=input(\"enter the string:\")\n",
    "length=len(n)\n",
    "for i in range(length):#row\n",
    "    for j in range(i+1):#columns\n",
    "        print(n[j],end=\" \")\n",
    "    print()"
   ]
  },
  {
   "cell_type": "code",
   "execution_count": null,
   "id": "ea4f971a",
   "metadata": {},
   "outputs": [],
   "source": []
  }
 ],
 "metadata": {
  "kernelspec": {
   "display_name": "Python 3 (ipykernel)",
   "language": "python",
   "name": "python3"
  },
  "language_info": {
   "codemirror_mode": {
    "name": "ipython",
    "version": 3
   },
   "file_extension": ".py",
   "mimetype": "text/x-python",
   "name": "python",
   "nbconvert_exporter": "python",
   "pygments_lexer": "ipython3",
   "version": "3.9.4"
  }
 },
 "nbformat": 4,
 "nbformat_minor": 5
}
