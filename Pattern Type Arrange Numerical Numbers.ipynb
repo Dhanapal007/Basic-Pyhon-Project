{
 "cells": [
  {
   "cell_type": "code",
   "execution_count": null,
   "id": "006ec239",
   "metadata": {},
   "outputs": [],
   "source": [
    "NUMBERS PRINTING TRIANGLE SHAPE"
   ]
  },
  {
   "cell_type": "code",
   "execution_count": 1,
   "id": "37e3b11c",
   "metadata": {},
   "outputs": [
    {
     "name": "stdout",
     "output_type": "stream",
     "text": [
      "Enter the Number U Want:5\n",
      "1 \n",
      "2 3 \n",
      "4 5 6 \n",
      "7 8 9 10 \n",
      "11 12 13 14 15 \n"
     ]
    }
   ],
   "source": [
    "n=int(input('Enter the Number U Want:'))\n",
    "num=1\n",
    "for i in range(1,n+1):\n",
    "    for j in range(1,i+1):\n",
    "        print(num,end=\" \")\n",
    "        num=num+1\n",
    "    print()"
   ]
  },
  {
   "cell_type": "code",
   "execution_count": null,
   "id": "3e125497",
   "metadata": {},
   "outputs": [],
   "source": [
    "NUMBERS PRINTING REVERSED TRIANGLE SHAPE"
   ]
  },
  {
   "cell_type": "code",
   "execution_count": 2,
   "id": "a6b01178",
   "metadata": {},
   "outputs": [
    {
     "name": "stdout",
     "output_type": "stream",
     "text": [
      "Enter the Number U Want:5\n",
      "1  2  3  4  5  \n",
      "6  7  8  9  \n",
      "10  11  12  \n",
      "13  14  \n",
      "15  \n"
     ]
    }
   ],
   "source": [
    "n=int(input('Enter the Number U Want:'))\n",
    "num=1\n",
    "for i in range(n,0,-1):\n",
    "    for j in range(1,i+1):\n",
    "        print(num,end=\"  \")\n",
    "        num=num+1\n",
    "    print()"
   ]
  },
  {
   "cell_type": "code",
   "execution_count": null,
   "id": "ea5446db",
   "metadata": {},
   "outputs": [],
   "source": []
  }
 ],
 "metadata": {
  "kernelspec": {
   "display_name": "Python 3 (ipykernel)",
   "language": "python",
   "name": "python3"
  },
  "language_info": {
   "codemirror_mode": {
    "name": "ipython",
    "version": 3
   },
   "file_extension": ".py",
   "mimetype": "text/x-python",
   "name": "python",
   "nbconvert_exporter": "python",
   "pygments_lexer": "ipython3",
   "version": "3.9.4"
  }
 },
 "nbformat": 4,
 "nbformat_minor": 5
}
